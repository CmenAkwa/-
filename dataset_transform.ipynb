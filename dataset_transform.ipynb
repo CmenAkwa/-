{
 "cells": [
  {
   "cell_type": "code",
   "execution_count": 17,
   "id": "initial_id",
   "metadata": {
    "collapsed": true,
    "ExecuteTime": {
     "end_time": "2024-07-08T02:58:08.698923600Z",
     "start_time": "2024-07-08T02:58:06.468418300Z"
    }
   },
   "outputs": [
    {
     "name": "stdout",
     "output_type": "stream",
     "text": [
      "Files already downloaded and verified\n",
      "Files already downloaded and verified\n",
      "(<PIL.Image.Image image mode=RGB size=32x32 at 0x2023423B310>, 3)\n",
      "['airplane', 'automobile', 'bird', 'cat', 'deer', 'dog', 'frog', 'horse', 'ship', 'truck']\n"
     ]
    }
   ],
   "source": [
    "import torchvision\n",
    "from torch.utils.data import DataLoader\n",
    "from torch.utils.tensorboard import SummaryWriter\n",
    "dataset_transform = torchvision.transforms.Compose([\n",
    "    torchvision.transforms.ToTensor()\n",
    "])\n",
    "\n",
    "train_set = torchvision.datasets.CIFAR10(root='./torch_dataset', train=True, download=True)  # 训练集\n",
    "test_set = torchvision.datasets.CIFAR10(root='./torch_dataset', train=False, download=True)  # 测试集\n",
    "\n",
    "print(test_set[0])\n",
    "print(test_set.classes)\n"
   ]
  },
  {
   "cell_type": "code",
   "outputs": [
    {
     "name": "stdout",
     "output_type": "stream",
     "text": [
      "<PIL.Image.Image image mode=RGB size=32x32 at 0x202308541F0>\n",
      "6\n",
      "frog\n"
     ]
    }
   ],
   "source": [
    "img, target = train_set[0]\n",
    "print(img)\n",
    "print(target)\n",
    "print(test_set.classes[target])"
   ],
   "metadata": {
    "collapsed": false,
    "ExecuteTime": {
     "end_time": "2024-07-08T02:58:08.736223900Z",
     "start_time": "2024-07-08T02:58:08.701418600Z"
    }
   },
   "id": "3d54e9ad3579ef6b",
   "execution_count": 18
  },
  {
   "cell_type": "code",
   "outputs": [],
   "source": [
    "# img.show()"
   ],
   "metadata": {
    "collapsed": false,
    "ExecuteTime": {
     "end_time": "2024-07-08T02:58:08.737218700Z",
     "start_time": "2024-07-08T02:58:08.712511Z"
    }
   },
   "id": "b81204d99d336853",
   "execution_count": 19
  },
  {
   "cell_type": "code",
   "outputs": [],
   "source": [
    "test_data = torchvision.datasets.CIFAR10(root='./torch_dataset', train=False, transform=dataset_transform)  # 测试集\n",
    "test_loader=DataLoader(test_data, batch_size=64, shuffle=True,num_workers=0,drop_last=True)#drop_last丢掉余数,#shuffle在每个epoch重新排列数据\n"
   ],
   "metadata": {
    "collapsed": false,
    "ExecuteTime": {
     "end_time": "2024-07-08T02:58:09.178473800Z",
     "start_time": "2024-07-08T02:58:08.730222400Z"
    }
   },
   "id": "48b537f6d50775e",
   "execution_count": 20
  },
  {
   "cell_type": "code",
   "outputs": [
    {
     "name": "stdout",
     "output_type": "stream",
     "text": [
      "torch.Size([3, 32, 32])\n",
      "3\n",
      "cat\n"
     ]
    }
   ],
   "source": [
    "img,target = test_data[0]\n",
    "print(img.shape)\n",
    "print(target)\n",
    "print(test_data.classes[target])"
   ],
   "metadata": {
    "collapsed": false,
    "ExecuteTime": {
     "end_time": "2024-07-08T02:58:09.194457500Z",
     "start_time": "2024-07-08T02:58:09.182671Z"
    }
   },
   "id": "6cb77c9e7fca1762",
   "execution_count": 21
  },
  {
   "cell_type": "code",
   "outputs": [],
   "source": [
    "writer=SummaryWriter('dataloader')\n",
    "step=0\n",
    "for data in test_loader:#一个data是一批，有batch_size=64个\n",
    "    imgs,targets=data\n",
    "    writer.add_images(\"test_data\",imgs,step)#注意是add_images\n",
    "    step=step+1\n",
    "writer.close()"
   ],
   "metadata": {
    "collapsed": false,
    "ExecuteTime": {
     "end_time": "2024-07-08T02:59:51.317647900Z",
     "start_time": "2024-07-08T02:59:42.173393Z"
    }
   },
   "id": "4dd4b361aa780780",
   "execution_count": 24
  }
 ],
 "metadata": {
  "kernelspec": {
   "display_name": "Python 3",
   "language": "python",
   "name": "python3"
  },
  "language_info": {
   "codemirror_mode": {
    "name": "ipython",
    "version": 2
   },
   "file_extension": ".py",
   "mimetype": "text/x-python",
   "name": "python",
   "nbconvert_exporter": "python",
   "pygments_lexer": "ipython2",
   "version": "2.7.6"
  }
 },
 "nbformat": 4,
 "nbformat_minor": 5
}
